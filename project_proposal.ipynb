{
 "cells": [
  {
   "cell_type": "markdown",
   "metadata": {},
   "source": [
    "# Project Proposal: 3-Year Recidivism for Offenders Released from Prison in Iowa \n",
    "\n",
    "By Eric Gustin, Daniel Hoberman "
   ]
  },
  {
   "cell_type": "markdown",
   "metadata": {},
   "source": [
    "## 1. Dataset Description\n",
    "\n",
    "### Source, format, and its contents\n",
    "\n",
    "* [Source](https://data.iowa.gov/Correctional-System/3-Year-Recidivism-for-Offenders-Released-from-Pris/mw8r-vqy4)\n",
    "\n",
    "* Format: CSV\n",
    "\n",
    "* Contents: The dataset contains ~26,000 rows and 17 columns. The data was collected between the years 2013 and 2017 in the state of Iowa. \n",
    "\n",
    "### Description of attributes\n",
    "Class Attribute: Return to Prison\n",
    "\n",
    "1. Fiscal Year Released (int)\n",
    "    * Fiscal year (year ending June 30) for which the offender was released from prison. \n",
    "1. Recidivism Reporting Year (int)\n",
    "    * Fiscal year (year ending June 30) that marks the end of the 3-year tracking period. For example, offenders exited prison in FY 2012 are found in recidivism reporting year FY 2015.\n",
    "1. Main Supervising District (str)\n",
    "    * The Judicial District supervising the offender for the longest time during the tracking period.\n",
    "1. Release Type (str)\n",
    "    * Reasoning for Offender's release from prison.\n",
    "1. Race - Ethnicity (str)\n",
    "    * Offender's Race and Ethnicity\n",
    "1. Age At Release (str)\n",
    "    * Offender's age group at release from prison.\n",
    "1. Sex (str)\n",
    "    * Gender of our offender\n",
    "1. Offense Classification (str)\n",
    "    * Maximum penalties: A Felony = Life; B Felony = 25 or 50 years; C Felony = 10 years; D Felony = 5 years; Aggravated Misdemeanor = 2 years; Serious Misdemeanor = 1 year; Simple Misdemeanor = 30 days\n",
    "1. Offense Type (str)\n",
    "    * General category for the most serious offense for which the offender was placed in prison.\n",
    "1. Offense Subtype (str)\n",
    "    * Further classification of the most serious offense for which the offender was placed in prison.\n",
    "1. Return to Prison (str)\n",
    "    * No = Did not return to prison within the three year tracking period; Yes = Admitted to prison for any reason within the three year tracking period\n",
    "1. Days to Return (int)\n",
    "    * Number of days it took before the offender returned to prison.\n",
    "1. Recidivism Type (str)\n",
    "    * Indicates the reason for return to prison.\n",
    "1. New Offense Classification (str)\n",
    "    * New conviction maximum penalties: A Felony = Life; B Felony = 25 or 50 years; C Felony = 10 years; D Felony = 5 years; Aggravated Misdemeanor = 2 years; Serious Misdemeanor = 1 year; Simple Misdemeanor = 30 days\n",
    "1. New Offense Type\n",
    "    * General category for the new conviction while the offender is out of prison.\n",
    "1. New Offense Sub Type (str)\n",
    "    * Further classification of the new conviction.\n",
    "1. Target Population (str)\n",
    "    * The Department of Corrections has undertaken specific strategies to reduce recidivism rates for prisoners who are on parole."
   ]
  },
  {
   "cell_type": "markdown",
   "metadata": {},
   "source": [
    "## 1. Implementation/technical merit\n",
    "### Anticipated Challenges\n",
    "1. Cleaning data is always time consuming\n",
    "    * Need to determine if all attributes are useful (e.g. New Offense Type may not be useful for predicting whether someone re-offends)\n",
    "    * Ensure rows with missing values are removed\n",
    "    * We plan on using `MyPyTable` for preprocessing\n",
    "\n",
    "### Feature Selection Techniques\n",
    "We have 17 attributes. Most of them seem useful. However, using different combinations of attributes and testing the best prediction accuracy will be useful."
   ]
  },
  {
   "cell_type": "markdown",
   "metadata": {},
   "source": [
    "## 3. Potential Impact of the results\n",
    "Results can show us what attributes are most likely to lead to recidivism. This could help the corrections office to pay more attention to ex-convicts that we flag as high probability for recidivism. Alternatively, our classifier could be an example for biases in the judicial system. Our stakeholders are anyone involved in the judicial system."
   ]
  }
 ],
 "metadata": {
  "language_info": {
   "name": "python"
  },
  "orig_nbformat": 4
 },
 "nbformat": 4,
 "nbformat_minor": 2
}
